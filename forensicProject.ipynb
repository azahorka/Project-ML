{
 "cells": [
  {
   "cell_type": "markdown",
   "id": "a7ef2524",
   "metadata": {},
   "source": [
    "# Forensic project"
   ]
  },
  {
   "cell_type": "code",
   "execution_count": null,
   "id": "a06b2b3a",
   "metadata": {},
   "outputs": [],
   "source": [
    "import pandas as pd\n",
    "import matplotlib.pyplot as plt\n",
    "import numpy as np"
   ]
  },
  {
   "cell_type": "markdown",
   "id": "a93aa37e",
   "metadata": {},
   "source": [
    "The aim of this project is to predict unknown locations of samples (collected on crime scenes) of soil knowing some covariables. For this purpose, a training data set containing the same covariables and the locations is provided.\n",
    "\n",
    "A probability map for the locations of a given sample would be a plus.\n"
   ]
  },
  {
   "cell_type": "markdown",
   "id": "2a69e045",
   "metadata": {},
   "source": [
    "The data set containing the sample for which the location has to be predicted can be obtained by "
   ]
  },
  {
   "cell_type": "code",
   "execution_count": null,
   "id": "277fe0d2",
   "metadata": {},
   "outputs": [],
   "source": [
    "to_predict = pd.read_csv(\"test_without_label.csv\")"
   ]
  },
  {
   "cell_type": "markdown",
   "id": "80af41fc",
   "metadata": {},
   "source": [
    "The training data set can be obtained by: "
   ]
  },
  {
   "cell_type": "code",
   "execution_count": null,
   "id": "21be7c22",
   "metadata": {},
   "outputs": [],
   "source": [
    "data = pd.read_csv(\"soil_data.csv\")\n"
   ]
  },
  {
   "cell_type": "markdown",
   "id": "f233adaa",
   "metadata": {},
   "source": [
    "We can have an idea of the spatial distribution of a given variable by "
   ]
  },
  {
   "cell_type": "code",
   "execution_count": null,
   "id": "c887bc9b",
   "metadata": {},
   "outputs": [],
   "source": [
    "var = \"limon_grossier\""
   ]
  },
  {
   "cell_type": "code",
   "execution_count": null,
   "id": "47b6ade8",
   "metadata": {},
   "outputs": [],
   "source": [
    "plt.scatter(data[\"x_theo\"],data[\"y_theo\"],s=5,c=data[var])\n",
    "plt.title(var)\n",
    "plt.axis(\"equal\")"
   ]
  },
  {
   "cell_type": "markdown",
   "id": "9ec75bd8",
   "metadata": {},
   "source": [
    "Note that we have often 2 observations by site (see variable \"id_site\"). It is due to the fact that the locations are not really precise and that 2 measurements have generally been made in the same area.\n"
   ]
  }
 ],
 "metadata": {
  "kernelspec": {
   "display_name": "Python 3 (ipykernel)",
   "language": "python",
   "name": "python3"
  },
  "language_info": {
   "codemirror_mode": {
    "name": "ipython",
    "version": 3
   },
   "file_extension": ".py",
   "mimetype": "text/x-python",
   "name": "python",
   "nbconvert_exporter": "python",
   "pygments_lexer": "ipython3",
   "version": "3.10.2"
  }
 },
 "nbformat": 4,
 "nbformat_minor": 5
}
